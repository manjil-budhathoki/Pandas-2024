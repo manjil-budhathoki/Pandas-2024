{
 "cells": [
  {
   "cell_type": "code",
   "execution_count": 2,
   "metadata": {},
   "outputs": [
    {
     "name": "stderr",
     "output_type": "stream",
     "text": [
      "C:\\Users\\Manjil\\AppData\\Local\\Temp\\ipykernel_2988\\4080736814.py:1: DeprecationWarning: \n",
      "Pyarrow will become a required dependency of pandas in the next major release of pandas (pandas 3.0),\n",
      "(to allow more performant data types, such as the Arrow string type, and better interoperability with other libraries)\n",
      "but was not found to be installed on your system.\n",
      "If this would cause problems for you,\n",
      "please provide us feedback at https://github.com/pandas-dev/pandas/issues/54466\n",
      "        \n",
      "  import pandas as pd\n"
     ]
    }
   ],
   "source": [
    "import pandas as pd"
   ]
  },
  {
   "cell_type": "code",
   "execution_count": 3,
   "metadata": {},
   "outputs": [
    {
     "data": {
      "text/html": [
       "<div>\n",
       "<style scoped>\n",
       "    .dataframe tbody tr th:only-of-type {\n",
       "        vertical-align: middle;\n",
       "    }\n",
       "\n",
       "    .dataframe tbody tr th {\n",
       "        vertical-align: top;\n",
       "    }\n",
       "\n",
       "    .dataframe thead th {\n",
       "        text-align: right;\n",
       "    }\n",
       "</style>\n",
       "<table border=\"1\" class=\"dataframe\">\n",
       "  <thead>\n",
       "    <tr style=\"text-align: right;\">\n",
       "      <th></th>\n",
       "      <th>Index</th>\n",
       "      <th>Organization Id</th>\n",
       "      <th>Name</th>\n",
       "      <th>Website</th>\n",
       "      <th>Country</th>\n",
       "      <th>Description</th>\n",
       "      <th>Founded</th>\n",
       "      <th>Industry</th>\n",
       "      <th>Number of employees</th>\n",
       "    </tr>\n",
       "  </thead>\n",
       "  <tbody>\n",
       "    <tr>\n",
       "      <th>0</th>\n",
       "      <td>1</td>\n",
       "      <td>FAB0d41d5b5d22c</td>\n",
       "      <td>Ferrell LLC</td>\n",
       "      <td>https://price.net/</td>\n",
       "      <td>Papua New Guinea</td>\n",
       "      <td>Horizontal empowering knowledgebase</td>\n",
       "      <td>1990</td>\n",
       "      <td>Plastics</td>\n",
       "      <td>3498</td>\n",
       "    </tr>\n",
       "    <tr>\n",
       "      <th>1</th>\n",
       "      <td>2</td>\n",
       "      <td>6A7EdDEA9FaDC52</td>\n",
       "      <td>Mckinney, Riley and Day</td>\n",
       "      <td>http://www.hall-buchanan.info/</td>\n",
       "      <td>Finland</td>\n",
       "      <td>User-centric system-worthy leverage</td>\n",
       "      <td>2015</td>\n",
       "      <td>Glass / Ceramics / Concrete</td>\n",
       "      <td>4952</td>\n",
       "    </tr>\n",
       "    <tr>\n",
       "      <th>2</th>\n",
       "      <td>3</td>\n",
       "      <td>0bFED1ADAE4bcC1</td>\n",
       "      <td>Hester Ltd</td>\n",
       "      <td>http://sullivan-reed.com/</td>\n",
       "      <td>China</td>\n",
       "      <td>Switchable scalable moratorium</td>\n",
       "      <td>1971</td>\n",
       "      <td>Public Safety</td>\n",
       "      <td>5287</td>\n",
       "    </tr>\n",
       "    <tr>\n",
       "      <th>3</th>\n",
       "      <td>4</td>\n",
       "      <td>2bFC1Be8a4ce42f</td>\n",
       "      <td>Holder-Sellers</td>\n",
       "      <td>https://becker.com/</td>\n",
       "      <td>Turkmenistan</td>\n",
       "      <td>De-engineered systemic artificial intelligence</td>\n",
       "      <td>2004</td>\n",
       "      <td>Automotive</td>\n",
       "      <td>921</td>\n",
       "    </tr>\n",
       "    <tr>\n",
       "      <th>4</th>\n",
       "      <td>5</td>\n",
       "      <td>9eE8A6a4Eb96C24</td>\n",
       "      <td>Mayer Group</td>\n",
       "      <td>http://www.brewer.com/</td>\n",
       "      <td>Mauritius</td>\n",
       "      <td>Synchronized needs-based challenge</td>\n",
       "      <td>1991</td>\n",
       "      <td>Transportation</td>\n",
       "      <td>7870</td>\n",
       "    </tr>\n",
       "  </tbody>\n",
       "</table>\n",
       "</div>"
      ],
      "text/plain": [
       "   Index  Organization Id                     Name  \\\n",
       "0      1  FAB0d41d5b5d22c              Ferrell LLC   \n",
       "1      2  6A7EdDEA9FaDC52  Mckinney, Riley and Day   \n",
       "2      3  0bFED1ADAE4bcC1               Hester Ltd   \n",
       "3      4  2bFC1Be8a4ce42f           Holder-Sellers   \n",
       "4      5  9eE8A6a4Eb96C24              Mayer Group   \n",
       "\n",
       "                          Website           Country  \\\n",
       "0              https://price.net/  Papua New Guinea   \n",
       "1  http://www.hall-buchanan.info/           Finland   \n",
       "2       http://sullivan-reed.com/             China   \n",
       "3             https://becker.com/      Turkmenistan   \n",
       "4          http://www.brewer.com/         Mauritius   \n",
       "\n",
       "                                      Description  Founded  \\\n",
       "0             Horizontal empowering knowledgebase     1990   \n",
       "1             User-centric system-worthy leverage     2015   \n",
       "2                  Switchable scalable moratorium     1971   \n",
       "3  De-engineered systemic artificial intelligence     2004   \n",
       "4              Synchronized needs-based challenge     1991   \n",
       "\n",
       "                      Industry  Number of employees  \n",
       "0                     Plastics                 3498  \n",
       "1  Glass / Ceramics / Concrete                 4952  \n",
       "2                Public Safety                 5287  \n",
       "3                   Automotive                  921  \n",
       "4               Transportation                 7870  "
      ]
     },
     "execution_count": 3,
     "metadata": {},
     "output_type": "execute_result"
    }
   ],
   "source": [
    "orgination = pd.read_csv(\"Data/Orgonization.csv\")\n",
    "orgination.head()"
   ]
  },
  {
   "cell_type": "markdown",
   "metadata": {},
   "source": [
    "How do I select a subset of a DataFrame?\n",
    "How do I select specific columns from a DataFrame?"
   ]
  },
  {
   "cell_type": "code",
   "execution_count": 4,
   "metadata": {},
   "outputs": [
    {
     "data": {
      "text/plain": [
       "0                https://price.net/\n",
       "1    http://www.hall-buchanan.info/\n",
       "2         http://sullivan-reed.com/\n",
       "3               https://becker.com/\n",
       "4            http://www.brewer.com/\n",
       "Name: Website, dtype: object"
      ]
     },
     "execution_count": 4,
     "metadata": {},
     "output_type": "execute_result"
    }
   ],
   "source": [
    "website = orgination[\"Website\"]\n",
    "website.head()"
   ]
  },
  {
   "cell_type": "code",
   "execution_count": 5,
   "metadata": {},
   "outputs": [
    {
     "data": {
      "text/plain": [
       "pandas.core.series.Series"
      ]
     },
     "execution_count": 5,
     "metadata": {},
     "output_type": "execute_result"
    }
   ],
   "source": [
    "type(orgination['Website'])"
   ]
  },
  {
   "cell_type": "code",
   "execution_count": 6,
   "metadata": {},
   "outputs": [
    {
     "data": {
      "text/plain": [
       "(100,)"
      ]
     },
     "execution_count": 6,
     "metadata": {},
     "output_type": "execute_result"
    }
   ],
   "source": [
    "orgination[\"Website\"].shape"
   ]
  },
  {
   "cell_type": "code",
   "execution_count": 7,
   "metadata": {},
   "outputs": [
    {
     "data": {
      "text/html": [
       "<div>\n",
       "<style scoped>\n",
       "    .dataframe tbody tr th:only-of-type {\n",
       "        vertical-align: middle;\n",
       "    }\n",
       "\n",
       "    .dataframe tbody tr th {\n",
       "        vertical-align: top;\n",
       "    }\n",
       "\n",
       "    .dataframe thead th {\n",
       "        text-align: right;\n",
       "    }\n",
       "</style>\n",
       "<table border=\"1\" class=\"dataframe\">\n",
       "  <thead>\n",
       "    <tr style=\"text-align: right;\">\n",
       "      <th></th>\n",
       "      <th>Industry</th>\n",
       "      <th>Founded</th>\n",
       "    </tr>\n",
       "  </thead>\n",
       "  <tbody>\n",
       "    <tr>\n",
       "      <th>0</th>\n",
       "      <td>Plastics</td>\n",
       "      <td>1990</td>\n",
       "    </tr>\n",
       "    <tr>\n",
       "      <th>1</th>\n",
       "      <td>Glass / Ceramics / Concrete</td>\n",
       "      <td>2015</td>\n",
       "    </tr>\n",
       "    <tr>\n",
       "      <th>2</th>\n",
       "      <td>Public Safety</td>\n",
       "      <td>1971</td>\n",
       "    </tr>\n",
       "    <tr>\n",
       "      <th>3</th>\n",
       "      <td>Automotive</td>\n",
       "      <td>2004</td>\n",
       "    </tr>\n",
       "    <tr>\n",
       "      <th>4</th>\n",
       "      <td>Transportation</td>\n",
       "      <td>1991</td>\n",
       "    </tr>\n",
       "  </tbody>\n",
       "</table>\n",
       "</div>"
      ],
      "text/plain": [
       "                      Industry  Founded\n",
       "0                     Plastics     1990\n",
       "1  Glass / Ceramics / Concrete     2015\n",
       "2                Public Safety     1971\n",
       "3                   Automotive     2004\n",
       "4               Transportation     1991"
      ]
     },
     "execution_count": 7,
     "metadata": {},
     "output_type": "execute_result"
    }
   ],
   "source": [
    "ind_num = orgination[[\"Industry\",\"Founded\"]]\n",
    "ind_num.head()"
   ]
  },
  {
   "cell_type": "code",
   "execution_count": 8,
   "metadata": {},
   "outputs": [
    {
     "data": {
      "text/plain": [
       "pandas.core.frame.DataFrame"
      ]
     },
     "execution_count": 8,
     "metadata": {},
     "output_type": "execute_result"
    }
   ],
   "source": [
    "type(orgination[[\"Industry\",\"Founded\"]])"
   ]
  },
  {
   "cell_type": "code",
   "execution_count": 9,
   "metadata": {},
   "outputs": [
    {
     "data": {
      "text/plain": [
       "(100, 2)"
      ]
     },
     "execution_count": 9,
     "metadata": {},
     "output_type": "execute_result"
    }
   ],
   "source": [
    "orgination[[\"Industry\",\"Founded\"]].shape"
   ]
  },
  {
   "cell_type": "code",
   "execution_count": 12,
   "metadata": {},
   "outputs": [
    {
     "data": {
      "text/plain": [
       "0    False\n",
       "1     True\n",
       "2    False\n",
       "3     True\n",
       "4    False\n",
       "Name: Founded, dtype: bool"
      ]
     },
     "execution_count": 12,
     "metadata": {},
     "output_type": "execute_result"
    }
   ],
   "source": [
    "a = orgination[\"Founded\"].head()\n",
    "a > 2000"
   ]
  },
  {
   "cell_type": "code",
   "execution_count": 21,
   "metadata": {},
   "outputs": [
    {
     "name": "stdout",
     "output_type": "stream",
     "text": [
      "      A  B  C\n",
      "row1  1  4  7\n",
      "row2  2  5  8\n",
      "row3  3  6  9\n"
     ]
    },
    {
     "data": {
      "text/html": [
       "<div>\n",
       "<style scoped>\n",
       "    .dataframe tbody tr th:only-of-type {\n",
       "        vertical-align: middle;\n",
       "    }\n",
       "\n",
       "    .dataframe tbody tr th {\n",
       "        vertical-align: top;\n",
       "    }\n",
       "\n",
       "    .dataframe thead th {\n",
       "        text-align: right;\n",
       "    }\n",
       "</style>\n",
       "<table border=\"1\" class=\"dataframe\">\n",
       "  <thead>\n",
       "    <tr style=\"text-align: right;\">\n",
       "      <th></th>\n",
       "      <th>A</th>\n",
       "      <th>C</th>\n",
       "    </tr>\n",
       "  </thead>\n",
       "  <tbody>\n",
       "    <tr>\n",
       "      <th>row1</th>\n",
       "      <td>1</td>\n",
       "      <td>7</td>\n",
       "    </tr>\n",
       "    <tr>\n",
       "      <th>row3</th>\n",
       "      <td>3</td>\n",
       "      <td>9</td>\n",
       "    </tr>\n",
       "  </tbody>\n",
       "</table>\n",
       "</div>"
      ],
      "text/plain": [
       "      A  C\n",
       "row1  1  7\n",
       "row3  3  9"
      ]
     },
     "execution_count": 21,
     "metadata": {},
     "output_type": "execute_result"
    }
   ],
   "source": [
    "import pandas as pd\n",
    "\n",
    "# Creating a DataFrame\n",
    "data = {\n",
    "    'A': [1, 2, 3],\n",
    "    'B': [4, 5, 6],\n",
    "    'C': [7, 8, 9]\n",
    "}\n",
    "df = pd.DataFrame(data, index=['row1', 'row2', 'row3'])\n",
    "print(df)\n",
    "\n",
    "# Selecting a single row by label\n",
    "row = df.loc['row1']\n",
    "\n",
    "# Selecting specific rows and columns\n",
    "subset = df.loc[['row1', 'row3'], ['A', 'C']]\n",
    "row\n",
    "subset\n"
   ]
  },
  {
   "cell_type": "code",
   "execution_count": 23,
   "metadata": {},
   "outputs": [
    {
     "data": {
      "text/html": [
       "<div>\n",
       "<style scoped>\n",
       "    .dataframe tbody tr th:only-of-type {\n",
       "        vertical-align: middle;\n",
       "    }\n",
       "\n",
       "    .dataframe tbody tr th {\n",
       "        vertical-align: top;\n",
       "    }\n",
       "\n",
       "    .dataframe thead th {\n",
       "        text-align: right;\n",
       "    }\n",
       "</style>\n",
       "<table border=\"1\" class=\"dataframe\">\n",
       "  <thead>\n",
       "    <tr style=\"text-align: right;\">\n",
       "      <th></th>\n",
       "      <th>A</th>\n",
       "      <th>B</th>\n",
       "      <th>C</th>\n",
       "    </tr>\n",
       "  </thead>\n",
       "  <tbody>\n",
       "    <tr>\n",
       "      <th>row2</th>\n",
       "      <td>2</td>\n",
       "      <td>5</td>\n",
       "      <td>8</td>\n",
       "    </tr>\n",
       "    <tr>\n",
       "      <th>row3</th>\n",
       "      <td>3</td>\n",
       "      <td>6</td>\n",
       "      <td>9</td>\n",
       "    </tr>\n",
       "  </tbody>\n",
       "</table>\n",
       "</div>"
      ],
      "text/plain": [
       "      A  B  C\n",
       "row2  2  5  8\n",
       "row3  3  6  9"
      ]
     },
     "execution_count": 23,
     "metadata": {},
     "output_type": "execute_result"
    }
   ],
   "source": [
    "# Selecting rows where column 'A' is greater than 1\n",
    "filtered = df.loc[df['A'] > 1]\n",
    "filtered"
   ]
  }
 ],
 "metadata": {
  "kernelspec": {
   "display_name": "Python 3",
   "language": "python",
   "name": "python3"
  },
  "language_info": {
   "codemirror_mode": {
    "name": "ipython",
    "version": 3
   },
   "file_extension": ".py",
   "mimetype": "text/x-python",
   "name": "python",
   "nbconvert_exporter": "python",
   "pygments_lexer": "ipython3",
   "version": "3.11.4"
  }
 },
 "nbformat": 4,
 "nbformat_minor": 2
}
